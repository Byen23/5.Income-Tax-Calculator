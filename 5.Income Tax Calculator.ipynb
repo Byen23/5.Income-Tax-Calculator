{
 "cells": [
  {
   "cell_type": "code",
   "execution_count": 1,
   "metadata": {
    "ExecuteTime": {
     "end_time": "2019-01-10T14:13:05.532211Z",
     "start_time": "2019-01-10T14:13:05.524208Z"
    }
   },
   "outputs": [
    {
     "data": {
      "text/plain": [
       "'Pseudocode: \\n    1) Input the gross income and number of dependents \\n    2) Compute the taxable income using the formula \\n    3) Taxable income = gross income - 10000 - (3000 * number of dependents) \\n    4) Compute the income tax using the formula \\n    5) Tax = taxable income * 0.20 Print the tax'"
      ]
     },
     "execution_count": 1,
     "metadata": {},
     "output_type": "execute_result"
    }
   ],
   "source": [
    "# 5th Program to be uploaded to github.\n",
    "'''Pseudocode: \n",
    "    1) Input the gross income and number of dependents \n",
    "    2) Compute the taxable income using the formula \n",
    "    3) Taxable income = gross income - 10000 - (3000 * number of dependents) \n",
    "    4) Compute the income tax using the formula \n",
    "    5) Tax = taxable income * 0.20 Print the tax'''"
   ]
  },
  {
   "cell_type": "code",
   "execution_count": 2,
   "metadata": {
    "ExecuteTime": {
     "end_time": "2019-01-10T14:13:19.832287Z",
     "start_time": "2019-01-10T14:13:19.828290Z"
    }
   },
   "outputs": [],
   "source": [
    "# Initalize the constants\n",
    "\n",
    "TAX_RATE = 0.20\n",
    "STANDARD_DEDUCTION = 10000.0\n",
    "DEPENDENT_DEDUCTION = 3000.0"
   ]
  },
  {
   "cell_type": "code",
   "execution_count": 3,
   "metadata": {
    "ExecuteTime": {
     "end_time": "2019-01-10T14:13:32.980469Z",
     "start_time": "2019-01-10T14:13:27.944408Z"
    }
   },
   "outputs": [
    {
     "name": "stdout",
     "output_type": "stream",
     "text": [
      "Enter the gross income: 25000\n",
      "Enter the number of dependents: 34\n"
     ]
    }
   ],
   "source": [
    "# Request the inputs\n",
    "\n",
    "grossIncome = float(input(\"Enter the gross income: \"))\n",
    "numDependents = int(input(\"Enter the number of dependents: \"))"
   ]
  },
  {
   "cell_type": "code",
   "execution_count": 4,
   "metadata": {
    "ExecuteTime": {
     "end_time": "2019-01-10T14:13:42.484197Z",
     "start_time": "2019-01-10T14:13:42.481231Z"
    }
   },
   "outputs": [],
   "source": [
    "# Compute the income tax\n",
    "taxableIncome = grossIncome- STANDARD_DEDUCTION - \\\n",
    "    DEPENDENT_DEDUCTION * numDependents\n",
    "\n",
    "incomeTax = taxableIncome * TAX_RATE\n"
   ]
  },
  {
   "cell_type": "code",
   "execution_count": 5,
   "metadata": {
    "ExecuteTime": {
     "end_time": "2019-01-10T14:13:48.026856Z",
     "start_time": "2019-01-10T14:13:48.017840Z"
    }
   },
   "outputs": [
    {
     "name": "stdout",
     "output_type": "stream",
     "text": [
      "The income tax is $-17400.0\n"
     ]
    }
   ],
   "source": [
    "# Display the income tax\n",
    "print(\"The income tax is $\" + str(incomeTax))"
   ]
  }
 ],
 "metadata": {
  "kernelspec": {
   "display_name": "Python 3",
   "language": "python",
   "name": "python3"
  },
  "language_info": {
   "codemirror_mode": {
    "name": "ipython",
    "version": 3
   },
   "file_extension": ".py",
   "mimetype": "text/x-python",
   "name": "python",
   "nbconvert_exporter": "python",
   "pygments_lexer": "ipython3",
   "version": "3.6.7"
  }
 },
 "nbformat": 4,
 "nbformat_minor": 2
}
